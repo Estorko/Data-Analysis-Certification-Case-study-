{
 "cells": [
  {
   "cell_type": "code",
   "execution_count": 65,
   "metadata": {},
   "outputs": [
    {
     "data": {
      "text/html": [
       "<div>\n",
       "<style scoped>\n",
       "    .dataframe tbody tr th:only-of-type {\n",
       "        vertical-align: middle;\n",
       "    }\n",
       "\n",
       "    .dataframe tbody tr th {\n",
       "        vertical-align: top;\n",
       "    }\n",
       "\n",
       "    .dataframe thead th {\n",
       "        text-align: right;\n",
       "    }\n",
       "</style>\n",
       "<table border=\"1\" class=\"dataframe\">\n",
       "  <thead>\n",
       "    <tr style=\"text-align: right;\">\n",
       "      <th></th>\n",
       "      <th>Price</th>\n",
       "      <th>Boat Type</th>\n",
       "      <th>Manufacturer</th>\n",
       "      <th>Type</th>\n",
       "      <th>Year Built</th>\n",
       "      <th>Length</th>\n",
       "      <th>Width</th>\n",
       "      <th>Material</th>\n",
       "      <th>Location</th>\n",
       "      <th>Number of views last 7 days</th>\n",
       "    </tr>\n",
       "  </thead>\n",
       "  <tbody>\n",
       "    <tr>\n",
       "      <th>1</th>\n",
       "      <td>EUR 3490</td>\n",
       "      <td>Center console boat</td>\n",
       "      <td>Terhi power boats</td>\n",
       "      <td>new boat from stock</td>\n",
       "      <td>2020</td>\n",
       "      <td>4.00</td>\n",
       "      <td>1.50</td>\n",
       "      <td>Thermoplastic</td>\n",
       "      <td>Germany</td>\n",
       "      <td>75</td>\n",
       "    </tr>\n",
       "    <tr>\n",
       "      <th>2</th>\n",
       "      <td>CHF 3770</td>\n",
       "      <td>Sport Boat</td>\n",
       "      <td>Marine power boats</td>\n",
       "      <td>new boat from stock</td>\n",
       "      <td>0</td>\n",
       "      <td>3.69</td>\n",
       "      <td>1.42</td>\n",
       "      <td>Aluminium</td>\n",
       "      <td>Switzerland</td>\n",
       "      <td>124</td>\n",
       "    </tr>\n",
       "    <tr>\n",
       "      <th>4</th>\n",
       "      <td>EUR 3399</td>\n",
       "      <td>Fishing Boat</td>\n",
       "      <td>Linder power boats</td>\n",
       "      <td>new boat from stock</td>\n",
       "      <td>2019</td>\n",
       "      <td>3.55</td>\n",
       "      <td>1.46</td>\n",
       "      <td>Aluminium</td>\n",
       "      <td>Germany</td>\n",
       "      <td>58</td>\n",
       "    </tr>\n",
       "    <tr>\n",
       "      <th>5</th>\n",
       "      <td>CHF 3650</td>\n",
       "      <td>Sport Boat</td>\n",
       "      <td>Linder power boats</td>\n",
       "      <td>new boat from stock</td>\n",
       "      <td>0</td>\n",
       "      <td>4.03</td>\n",
       "      <td>1.56</td>\n",
       "      <td>Aluminium</td>\n",
       "      <td>Switzerland</td>\n",
       "      <td>132</td>\n",
       "    </tr>\n",
       "    <tr>\n",
       "      <th>10</th>\n",
       "      <td>CHF 3500</td>\n",
       "      <td>Fishing Boat</td>\n",
       "      <td>Terhi power boats</td>\n",
       "      <td>Used boat,Electric</td>\n",
       "      <td>1987</td>\n",
       "      <td>4.35</td>\n",
       "      <td>1.75</td>\n",
       "      <td>GRP</td>\n",
       "      <td>Switzerland</td>\n",
       "      <td>239</td>\n",
       "    </tr>\n",
       "    <tr>\n",
       "      <th>...</th>\n",
       "      <td>...</td>\n",
       "      <td>...</td>\n",
       "      <td>...</td>\n",
       "      <td>...</td>\n",
       "      <td>...</td>\n",
       "      <td>...</td>\n",
       "      <td>...</td>\n",
       "      <td>...</td>\n",
       "      <td>...</td>\n",
       "      <td>...</td>\n",
       "    </tr>\n",
       "    <tr>\n",
       "      <th>9880</th>\n",
       "      <td>CHF 4980</td>\n",
       "      <td>Sport Boat</td>\n",
       "      <td>Linder power boats</td>\n",
       "      <td>new boat from stock</td>\n",
       "      <td>0</td>\n",
       "      <td>4.01</td>\n",
       "      <td>1.64</td>\n",
       "      <td>Aluminium</td>\n",
       "      <td>Switzerland</td>\n",
       "      <td>247</td>\n",
       "    </tr>\n",
       "    <tr>\n",
       "      <th>9881</th>\n",
       "      <td>CHF 4950</td>\n",
       "      <td>Sport Boat</td>\n",
       "      <td>Marine power boats</td>\n",
       "      <td>new boat from stock</td>\n",
       "      <td>0</td>\n",
       "      <td>3.99</td>\n",
       "      <td>1.52</td>\n",
       "      <td>Aluminium</td>\n",
       "      <td>Switzerland</td>\n",
       "      <td>150</td>\n",
       "    </tr>\n",
       "    <tr>\n",
       "      <th>9882</th>\n",
       "      <td>CHF 4950</td>\n",
       "      <td>Fishing Boat</td>\n",
       "      <td>Staempfli power boats</td>\n",
       "      <td>Used boat,Unleaded</td>\n",
       "      <td>1984</td>\n",
       "      <td>6.00</td>\n",
       "      <td>1.62</td>\n",
       "      <td>Plastic</td>\n",
       "      <td>Switzerland</td>\n",
       "      <td>288</td>\n",
       "    </tr>\n",
       "    <tr>\n",
       "      <th>9885</th>\n",
       "      <td>EUR 4499</td>\n",
       "      <td>Sport Boat</td>\n",
       "      <td>BlueCraft power boats</td>\n",
       "      <td>new boat from stock,Unleaded</td>\n",
       "      <td>2020</td>\n",
       "      <td>4.40</td>\n",
       "      <td>1.80</td>\n",
       "      <td>GRP</td>\n",
       "      <td>Germany</td>\n",
       "      <td>354</td>\n",
       "    </tr>\n",
       "    <tr>\n",
       "      <th>9887</th>\n",
       "      <td>CHF 3780</td>\n",
       "      <td>Fishing Boat</td>\n",
       "      <td>DarekCo power boats</td>\n",
       "      <td>new boat from stock</td>\n",
       "      <td>2019</td>\n",
       "      <td>3.60</td>\n",
       "      <td>1.60</td>\n",
       "      <td>GRP</td>\n",
       "      <td>Switzerland</td>\n",
       "      <td>194</td>\n",
       "    </tr>\n",
       "  </tbody>\n",
       "</table>\n",
       "<p>7019 rows × 10 columns</p>\n",
       "</div>"
      ],
      "text/plain": [
       "         Price            Boat Type           Manufacturer  \\\n",
       "1     EUR 3490  Center console boat      Terhi power boats   \n",
       "2     CHF 3770           Sport Boat     Marine power boats   \n",
       "4     EUR 3399         Fishing Boat     Linder power boats   \n",
       "5     CHF 3650           Sport Boat     Linder power boats   \n",
       "10    CHF 3500         Fishing Boat      Terhi power boats   \n",
       "...        ...                  ...                    ...   \n",
       "9880  CHF 4980           Sport Boat     Linder power boats   \n",
       "9881  CHF 4950           Sport Boat     Marine power boats   \n",
       "9882  CHF 4950         Fishing Boat  Staempfli power boats   \n",
       "9885  EUR 4499           Sport Boat  BlueCraft power boats   \n",
       "9887  CHF 3780         Fishing Boat    DarekCo power boats   \n",
       "\n",
       "                              Type  Year Built  Length  Width       Material  \\\n",
       "1              new boat from stock        2020    4.00   1.50  Thermoplastic   \n",
       "2              new boat from stock           0    3.69   1.42      Aluminium   \n",
       "4              new boat from stock        2019    3.55   1.46      Aluminium   \n",
       "5              new boat from stock           0    4.03   1.56      Aluminium   \n",
       "10              Used boat,Electric        1987    4.35   1.75            GRP   \n",
       "...                            ...         ...     ...    ...            ...   \n",
       "9880           new boat from stock           0    4.01   1.64      Aluminium   \n",
       "9881           new boat from stock           0    3.99   1.52      Aluminium   \n",
       "9882            Used boat,Unleaded        1984    6.00   1.62        Plastic   \n",
       "9885  new boat from stock,Unleaded        2020    4.40   1.80            GRP   \n",
       "9887           new boat from stock        2019    3.60   1.60            GRP   \n",
       "\n",
       "         Location  Number of views last 7 days  \n",
       "1         Germany                           75  \n",
       "2     Switzerland                          124  \n",
       "4         Germany                           58  \n",
       "5     Switzerland                          132  \n",
       "10    Switzerland                          239  \n",
       "...           ...                          ...  \n",
       "9880  Switzerland                          247  \n",
       "9881  Switzerland                          150  \n",
       "9882  Switzerland                          288  \n",
       "9885      Germany                          354  \n",
       "9887  Switzerland                          194  \n",
       "\n",
       "[7019 rows x 10 columns]"
      ]
     },
     "execution_count": 65,
     "metadata": {},
     "output_type": "execute_result"
    }
   ],
   "source": [
    "import pandas as  pd\n",
    "import seaborn as sns\n",
    "import matplotlib.pyplot as plt\n",
    "import numpy as np\n",
    "df=pd.read_csv('boat_data.csv')\n",
    "df.dropna()"
   ]
  },
  {
   "cell_type": "code",
   "execution_count": 66,
   "metadata": {},
   "outputs": [
    {
     "data": {
      "text/html": [
       "<div>\n",
       "<style scoped>\n",
       "    .dataframe tbody tr th:only-of-type {\n",
       "        vertical-align: middle;\n",
       "    }\n",
       "\n",
       "    .dataframe tbody tr th {\n",
       "        vertical-align: top;\n",
       "    }\n",
       "\n",
       "    .dataframe thead th {\n",
       "        text-align: right;\n",
       "    }\n",
       "</style>\n",
       "<table border=\"1\" class=\"dataframe\">\n",
       "  <thead>\n",
       "    <tr style=\"text-align: right;\">\n",
       "      <th></th>\n",
       "      <th>Price</th>\n",
       "      <th>Boat Type</th>\n",
       "      <th>Manufacturer</th>\n",
       "      <th>Type</th>\n",
       "      <th>Year Built</th>\n",
       "      <th>Length</th>\n",
       "      <th>Width</th>\n",
       "      <th>Material</th>\n",
       "      <th>Location</th>\n",
       "      <th>Number of views last 7 days</th>\n",
       "      <th>Currency</th>\n",
       "      <th>Amount</th>\n",
       "      <th>Price_EUR</th>\n",
       "    </tr>\n",
       "  </thead>\n",
       "  <tbody>\n",
       "    <tr>\n",
       "      <th>3458</th>\n",
       "      <td>EUR 2000000</td>\n",
       "      <td>Flybridge</td>\n",
       "      <td>Baikal power boats</td>\n",
       "      <td>new boat on order,Diesel</td>\n",
       "      <td>2020</td>\n",
       "      <td>23.20</td>\n",
       "      <td>6.40</td>\n",
       "      <td>Steel</td>\n",
       "      <td>Russian</td>\n",
       "      <td>227</td>\n",
       "      <td>1.00</td>\n",
       "      <td>200000</td>\n",
       "      <td>200000.0</td>\n",
       "    </tr>\n",
       "    <tr>\n",
       "      <th>5123</th>\n",
       "      <td>EUR 219900</td>\n",
       "      <td>Motor Yacht</td>\n",
       "      <td>Sunseeker power boats</td>\n",
       "      <td>Used boat,Diesel</td>\n",
       "      <td>2004</td>\n",
       "      <td>14.76</td>\n",
       "      <td>4.20</td>\n",
       "      <td>GRP</td>\n",
       "      <td>Spain</td>\n",
       "      <td>177</td>\n",
       "      <td>1.00</td>\n",
       "      <td>219900</td>\n",
       "      <td>219900.0</td>\n",
       "    </tr>\n",
       "    <tr>\n",
       "      <th>8483</th>\n",
       "      <td>EUR 38000</td>\n",
       "      <td>Pontoon Boat</td>\n",
       "      <td>Cranchi power boats</td>\n",
       "      <td>Used boat,Unleaded</td>\n",
       "      <td>2006</td>\n",
       "      <td>8.30</td>\n",
       "      <td>2.80</td>\n",
       "      <td>GRP</td>\n",
       "      <td>Italy</td>\n",
       "      <td>152</td>\n",
       "      <td>1.00</td>\n",
       "      <td>38000</td>\n",
       "      <td>38000.0</td>\n",
       "    </tr>\n",
       "    <tr>\n",
       "      <th>5682</th>\n",
       "      <td>EUR 155000</td>\n",
       "      <td>Flybridge</td>\n",
       "      <td>Raffaelli power boats</td>\n",
       "      <td>Used boat,Diesel</td>\n",
       "      <td>1998</td>\n",
       "      <td>16.00</td>\n",
       "      <td>4.35</td>\n",
       "      <td>NaN</td>\n",
       "      <td>Italy</td>\n",
       "      <td>78</td>\n",
       "      <td>1.00</td>\n",
       "      <td>155000</td>\n",
       "      <td>155000.0</td>\n",
       "    </tr>\n",
       "    <tr>\n",
       "      <th>3990</th>\n",
       "      <td>EUR 570000</td>\n",
       "      <td>Motor Yacht</td>\n",
       "      <td>NaN</td>\n",
       "      <td>Used boat,Diesel</td>\n",
       "      <td>1998</td>\n",
       "      <td>18.50</td>\n",
       "      <td>4.88</td>\n",
       "      <td>GRP</td>\n",
       "      <td>Spain</td>\n",
       "      <td>78</td>\n",
       "      <td>1.00</td>\n",
       "      <td>570000</td>\n",
       "      <td>570000.0</td>\n",
       "    </tr>\n",
       "    <tr>\n",
       "      <th>3379</th>\n",
       "      <td>EUR 4250000</td>\n",
       "      <td>Mega Yacht</td>\n",
       "      <td>Johnson power boats</td>\n",
       "      <td>Used boat,Diesel</td>\n",
       "      <td>2013</td>\n",
       "      <td>32.92</td>\n",
       "      <td>7.20</td>\n",
       "      <td>GRP</td>\n",
       "      <td>Taiwan</td>\n",
       "      <td>118</td>\n",
       "      <td>1.00</td>\n",
       "      <td>425000</td>\n",
       "      <td>425000.0</td>\n",
       "    </tr>\n",
       "    <tr>\n",
       "      <th>2057</th>\n",
       "      <td>EUR 142576</td>\n",
       "      <td>Sport Boat</td>\n",
       "      <td>Cranchi power boats</td>\n",
       "      <td>Used boat</td>\n",
       "      <td>2019</td>\n",
       "      <td>7.85</td>\n",
       "      <td>2.49</td>\n",
       "      <td>PVC</td>\n",
       "      <td>France</td>\n",
       "      <td>40</td>\n",
       "      <td>1.00</td>\n",
       "      <td>142576</td>\n",
       "      <td>142576.0</td>\n",
       "    </tr>\n",
       "    <tr>\n",
       "      <th>9362</th>\n",
       "      <td>EUR 18500</td>\n",
       "      <td>Cabin Boat</td>\n",
       "      <td>NaN</td>\n",
       "      <td>Used boat</td>\n",
       "      <td>1983</td>\n",
       "      <td>8.10</td>\n",
       "      <td>2.95</td>\n",
       "      <td>GRP</td>\n",
       "      <td>Netherlands</td>\n",
       "      <td>127</td>\n",
       "      <td>1.00</td>\n",
       "      <td>18500</td>\n",
       "      <td>18500.0</td>\n",
       "    </tr>\n",
       "    <tr>\n",
       "      <th>6929</th>\n",
       "      <td>EUR 79000</td>\n",
       "      <td>Deck Boat</td>\n",
       "      <td>NaN</td>\n",
       "      <td>Used boat,Unleaded</td>\n",
       "      <td>2012</td>\n",
       "      <td>10.70</td>\n",
       "      <td>3.05</td>\n",
       "      <td>GRP</td>\n",
       "      <td>Italy</td>\n",
       "      <td>87</td>\n",
       "      <td>1.00</td>\n",
       "      <td>79000</td>\n",
       "      <td>79000.0</td>\n",
       "    </tr>\n",
       "    <tr>\n",
       "      <th>4055</th>\n",
       "      <td>EUR 525000</td>\n",
       "      <td>Motor Yacht</td>\n",
       "      <td>Monachus power boats</td>\n",
       "      <td>Used boat,Diesel</td>\n",
       "      <td>2020</td>\n",
       "      <td>13.85</td>\n",
       "      <td>4.20</td>\n",
       "      <td>GRP</td>\n",
       "      <td>Croatia</td>\n",
       "      <td>180</td>\n",
       "      <td>1.00</td>\n",
       "      <td>525000</td>\n",
       "      <td>525000.0</td>\n",
       "    </tr>\n",
       "    <tr>\n",
       "      <th>7315</th>\n",
       "      <td>EUR 66250</td>\n",
       "      <td>Cabin Boat</td>\n",
       "      <td>Quicksilver (Brunswick Marine) power boats</td>\n",
       "      <td>new boat on order,Unleaded</td>\n",
       "      <td>2020</td>\n",
       "      <td>7.88</td>\n",
       "      <td>2.55</td>\n",
       "      <td>GRP</td>\n",
       "      <td>Germany</td>\n",
       "      <td>109</td>\n",
       "      <td>1.00</td>\n",
       "      <td>66250</td>\n",
       "      <td>66250.0</td>\n",
       "    </tr>\n",
       "    <tr>\n",
       "      <th>2825</th>\n",
       "      <td>EUR 390000</td>\n",
       "      <td>Motor Yacht</td>\n",
       "      <td>Azimut power boats</td>\n",
       "      <td>Used boat,Diesel</td>\n",
       "      <td>2003</td>\n",
       "      <td>17.51</td>\n",
       "      <td>4.75</td>\n",
       "      <td>GRP</td>\n",
       "      <td>Italy</td>\n",
       "      <td>70</td>\n",
       "      <td>1.00</td>\n",
       "      <td>390000</td>\n",
       "      <td>390000.0</td>\n",
       "    </tr>\n",
       "    <tr>\n",
       "      <th>7962</th>\n",
       "      <td>EUR 49500</td>\n",
       "      <td>Motor Yacht</td>\n",
       "      <td>Marex power boats</td>\n",
       "      <td>Used boat</td>\n",
       "      <td>2004</td>\n",
       "      <td>8.95</td>\n",
       "      <td>2.80</td>\n",
       "      <td>GRP</td>\n",
       "      <td>Germany</td>\n",
       "      <td>349</td>\n",
       "      <td>1.00</td>\n",
       "      <td>49500</td>\n",
       "      <td>49500.0</td>\n",
       "    </tr>\n",
       "    <tr>\n",
       "      <th>9164</th>\n",
       "      <td>EUR 23000</td>\n",
       "      <td>Cabin Boat</td>\n",
       "      <td>Sessa power boats</td>\n",
       "      <td>Used boat,Unleaded</td>\n",
       "      <td>2003</td>\n",
       "      <td>6.83</td>\n",
       "      <td>2.50</td>\n",
       "      <td>GRP</td>\n",
       "      <td>Italy</td>\n",
       "      <td>272</td>\n",
       "      <td>1.00</td>\n",
       "      <td>23000</td>\n",
       "      <td>23000.0</td>\n",
       "    </tr>\n",
       "    <tr>\n",
       "      <th>1718</th>\n",
       "      <td>CHF 105000</td>\n",
       "      <td>Sport Boat</td>\n",
       "      <td>NaN</td>\n",
       "      <td>Used boat,Unleaded</td>\n",
       "      <td>2017</td>\n",
       "      <td>8.00</td>\n",
       "      <td>2.60</td>\n",
       "      <td>GRP</td>\n",
       "      <td>Switzerland</td>\n",
       "      <td>517</td>\n",
       "      <td>1.02</td>\n",
       "      <td>105000</td>\n",
       "      <td>107100.0</td>\n",
       "    </tr>\n",
       "    <tr>\n",
       "      <th>752</th>\n",
       "      <td>EUR 38900</td>\n",
       "      <td>Motor Yacht</td>\n",
       "      <td>Four Winns power boats</td>\n",
       "      <td>new boat from stock</td>\n",
       "      <td>0</td>\n",
       "      <td>6.10</td>\n",
       "      <td>2.54</td>\n",
       "      <td>NaN</td>\n",
       "      <td>Germany</td>\n",
       "      <td>56</td>\n",
       "      <td>1.00</td>\n",
       "      <td>38900</td>\n",
       "      <td>38900.0</td>\n",
       "    </tr>\n",
       "    <tr>\n",
       "      <th>936</th>\n",
       "      <td>CHF 49900</td>\n",
       "      <td>Bowrider</td>\n",
       "      <td>Campion power boats</td>\n",
       "      <td>new boat from stock,Unleaded</td>\n",
       "      <td>2020</td>\n",
       "      <td>6.10</td>\n",
       "      <td>2.34</td>\n",
       "      <td>GRP</td>\n",
       "      <td>Switzerland</td>\n",
       "      <td>234</td>\n",
       "      <td>1.02</td>\n",
       "      <td>49900</td>\n",
       "      <td>50898.0</td>\n",
       "    </tr>\n",
       "    <tr>\n",
       "      <th>4089</th>\n",
       "      <td>EUR 495000</td>\n",
       "      <td>Flybridge</td>\n",
       "      <td>Azimut power boats</td>\n",
       "      <td>Used boat,Diesel</td>\n",
       "      <td>2013</td>\n",
       "      <td>13.46</td>\n",
       "      <td>4.31</td>\n",
       "      <td>GRP</td>\n",
       "      <td>Italy</td>\n",
       "      <td>57</td>\n",
       "      <td>1.00</td>\n",
       "      <td>495000</td>\n",
       "      <td>495000.0</td>\n",
       "    </tr>\n",
       "    <tr>\n",
       "      <th>701</th>\n",
       "      <td>EUR 35115</td>\n",
       "      <td>Deck Boat</td>\n",
       "      <td>Quicksilver power boats</td>\n",
       "      <td>new boat from stock,Unleaded</td>\n",
       "      <td>0</td>\n",
       "      <td>6.74</td>\n",
       "      <td>2.55</td>\n",
       "      <td>NaN</td>\n",
       "      <td>Germany</td>\n",
       "      <td>30</td>\n",
       "      <td>1.00</td>\n",
       "      <td>35115</td>\n",
       "      <td>35115.0</td>\n",
       "    </tr>\n",
       "    <tr>\n",
       "      <th>4367</th>\n",
       "      <td>EUR 379000</td>\n",
       "      <td>Flybridge</td>\n",
       "      <td>Integrity power boats</td>\n",
       "      <td>Used boat,Diesel</td>\n",
       "      <td>2020</td>\n",
       "      <td>11.70</td>\n",
       "      <td>4.11</td>\n",
       "      <td>GRP</td>\n",
       "      <td>Germany</td>\n",
       "      <td>44</td>\n",
       "      <td>1.00</td>\n",
       "      <td>379000</td>\n",
       "      <td>379000.0</td>\n",
       "    </tr>\n",
       "  </tbody>\n",
       "</table>\n",
       "</div>"
      ],
      "text/plain": [
       "            Price     Boat Type                                Manufacturer  \\\n",
       "3458  EUR 2000000     Flybridge                          Baikal power boats   \n",
       "5123   EUR 219900   Motor Yacht                       Sunseeker power boats   \n",
       "8483    EUR 38000  Pontoon Boat                         Cranchi power boats   \n",
       "5682   EUR 155000     Flybridge                       Raffaelli power boats   \n",
       "3990   EUR 570000   Motor Yacht                                         NaN   \n",
       "3379  EUR 4250000    Mega Yacht                         Johnson power boats   \n",
       "2057   EUR 142576    Sport Boat                         Cranchi power boats   \n",
       "9362    EUR 18500    Cabin Boat                                         NaN   \n",
       "6929    EUR 79000     Deck Boat                                         NaN   \n",
       "4055   EUR 525000   Motor Yacht                        Monachus power boats   \n",
       "7315    EUR 66250    Cabin Boat  Quicksilver (Brunswick Marine) power boats   \n",
       "2825   EUR 390000   Motor Yacht                          Azimut power boats   \n",
       "7962    EUR 49500   Motor Yacht                           Marex power boats   \n",
       "9164    EUR 23000    Cabin Boat                           Sessa power boats   \n",
       "1718   CHF 105000    Sport Boat                                         NaN   \n",
       "752     EUR 38900   Motor Yacht                      Four Winns power boats   \n",
       "936     CHF 49900      Bowrider                         Campion power boats   \n",
       "4089   EUR 495000     Flybridge                          Azimut power boats   \n",
       "701     EUR 35115     Deck Boat                     Quicksilver power boats   \n",
       "4367   EUR 379000     Flybridge                       Integrity power boats   \n",
       "\n",
       "                              Type  Year Built  Length  Width Material  \\\n",
       "3458      new boat on order,Diesel        2020   23.20   6.40    Steel   \n",
       "5123              Used boat,Diesel        2004   14.76   4.20      GRP   \n",
       "8483            Used boat,Unleaded        2006    8.30   2.80      GRP   \n",
       "5682              Used boat,Diesel        1998   16.00   4.35      NaN   \n",
       "3990              Used boat,Diesel        1998   18.50   4.88      GRP   \n",
       "3379              Used boat,Diesel        2013   32.92   7.20      GRP   \n",
       "2057                     Used boat        2019    7.85   2.49      PVC   \n",
       "9362                     Used boat        1983    8.10   2.95      GRP   \n",
       "6929            Used boat,Unleaded        2012   10.70   3.05      GRP   \n",
       "4055              Used boat,Diesel        2020   13.85   4.20      GRP   \n",
       "7315    new boat on order,Unleaded        2020    7.88   2.55      GRP   \n",
       "2825              Used boat,Diesel        2003   17.51   4.75      GRP   \n",
       "7962                     Used boat        2004    8.95   2.80      GRP   \n",
       "9164            Used boat,Unleaded        2003    6.83   2.50      GRP   \n",
       "1718            Used boat,Unleaded        2017    8.00   2.60      GRP   \n",
       "752            new boat from stock           0    6.10   2.54      NaN   \n",
       "936   new boat from stock,Unleaded        2020    6.10   2.34      GRP   \n",
       "4089              Used boat,Diesel        2013   13.46   4.31      GRP   \n",
       "701   new boat from stock,Unleaded           0    6.74   2.55      NaN   \n",
       "4367              Used boat,Diesel        2020   11.70   4.11      GRP   \n",
       "\n",
       "         Location  Number of views last 7 days  Currency  Amount  Price_EUR  \n",
       "3458      Russian                          227      1.00  200000   200000.0  \n",
       "5123        Spain                          177      1.00  219900   219900.0  \n",
       "8483        Italy                          152      1.00   38000    38000.0  \n",
       "5682        Italy                           78      1.00  155000   155000.0  \n",
       "3990        Spain                           78      1.00  570000   570000.0  \n",
       "3379       Taiwan                          118      1.00  425000   425000.0  \n",
       "2057       France                           40      1.00  142576   142576.0  \n",
       "9362  Netherlands                          127      1.00   18500    18500.0  \n",
       "6929        Italy                           87      1.00   79000    79000.0  \n",
       "4055      Croatia                          180      1.00  525000   525000.0  \n",
       "7315      Germany                          109      1.00   66250    66250.0  \n",
       "2825        Italy                           70      1.00  390000   390000.0  \n",
       "7962      Germany                          349      1.00   49500    49500.0  \n",
       "9164        Italy                          272      1.00   23000    23000.0  \n",
       "1718  Switzerland                          517      1.02  105000   107100.0  \n",
       "752       Germany                           56      1.00   38900    38900.0  \n",
       "936   Switzerland                          234      1.02   49900    50898.0  \n",
       "4089        Italy                           57      1.00  495000   495000.0  \n",
       "701       Germany                           30      1.00   35115    35115.0  \n",
       "4367      Germany                           44      1.00  379000   379000.0  "
      ]
     },
     "execution_count": 66,
     "metadata": {},
     "output_type": "execute_result"
    }
   ],
   "source": [
    "# Price conversion --> to EUR\n",
    "# 1 CHF (Schweize Franken) = 1,02 EUR\n",
    "# 1 Â£ = 1.15 EUR\n",
    "# 1 DKK (Dänische Krone)= 0.13 EUR\n",
    "# df.corr()\n",
    "\n",
    "# Split Currency and Amount from each other\n",
    "df['Currency']=df['Price'].str[:3]\n",
    "df['Amount']=df['Price'].str[4:10].str.strip().astype(int)\n",
    "# Convert to EUR\n",
    "cur_dict={\n",
    "    'CHF':1.02,'Â£ ':1.15, 'DKK':0.13,'EUR':1\n",
    "}\n",
    "df.replace({'Currency':cur_dict},inplace=True)\n",
    "df['Price_EUR']=df['Currency']*df['Amount']\n",
    "df.sample(20)\n"
   ]
  },
  {
   "cell_type": "code",
   "execution_count": 67,
   "metadata": {},
   "outputs": [],
   "source": [
    "# Categorize Prices\n",
    "df['Price_EUR'].describe()\n",
    "# 25th percentile 40,000 EUR\n",
    "# 50th percentile 87,720 EUR --> median\n",
    "# 75th percentile 199,937 EUR\n",
    "# max= 1,144,250\n",
    "# Categories= Under 45K (0-45K) / Cheap (45K-160K) / Average (160K-220K)/ Expensive(220K-500K)/ Very Expensive  (500K and above)\n",
    "price_category=pd.cut(df['Price_EUR'],bins=[0,45001,160001,220001,500001,1144250],labels=\n",
    "['Under 45K','Cheap','Average','Expensive','Very Expensive']) \n",
    "df.insert(1,'EUR Price Group',price_category)\n"
   ]
  },
  {
   "cell_type": "code",
   "execution_count": 68,
   "metadata": {},
   "outputs": [],
   "source": [
    "# Split Boat types\n",
    "df[['Boat Type-Main','Boat Type 2','Boat Type 3']]=df['Boat Type'].str.split(',',expand=True)\n",
    "# Split Type (Condition/Fuel Type)\n",
    "df[['Condition','Fuel Type']]=df['Type'].str.split(',',expand=True)\n",
    "# Boat age\n",
    "df['Age'] = 2022 - df['Year Built']\n",
    "df['Age'] = df['Age'].replace(2022, 0) # Replace 2022 with 0\n",
    "# df['Age'].describe()\n",
    "# Categorizing Age (0-5) / (5-16) / (16-26) / (26-51) / (51-100) / (137+)\n",
    "age_category=pd.cut(df.Age,bins=[0,5,16,26,51,101,137],\n",
    "labels=['0-4 years','5-15 years','16-25 years','26-50 years','51-100 years','101+ years'])\n",
    "df.insert(19,'Age Group',age_category)"
   ]
  },
  {
   "cell_type": "code",
   "execution_count": 69,
   "metadata": {},
   "outputs": [],
   "source": [
    "# Categorizing Views\n",
    "# df['Number of views last 7 days'].describe()\n",
    "views_category=pd.cut(df['Number of views last 7 days'],bins=[0,71,111,176,1301,3263],\n",
    "labels=['Low','Medium','Above average','Good','Best'])\n",
    "df.insert(21,'View_group',views_category)\n"
   ]
  },
  {
   "cell_type": "code",
   "execution_count": 70,
   "metadata": {},
   "outputs": [
    {
     "name": "stderr",
     "output_type": "stream",
     "text": [
      "C:\\Users\\Estorko\\AppData\\Local\\Temp\\ipykernel_22500\\3016067260.py:2: FutureWarning: The default value of regex will change from True to False in a future version.\n",
      "  df['Location']=df['Location'].str.replace('\\d+','') # remove digits\n"
     ]
    }
   ],
   "source": [
    "# Location\n",
    "df['Location']=df['Location'].str.replace('\\d+','') # remove digits\n",
    "# df['Location']=df['Location'].str.replace('Ã','')  # remove Ã / Â\n",
    "# df['Location'].str.contains('Ã').sum()\n",
    "df=df.replace('Ã',np.nan,regex=True)\n",
    "df=df.replace('Â',np.nan,regex=True)\n",
    "# Remove 'Ã' from Manufacturer\n",
    "# df['Manufacturer']=df['Manufacturer'].str.replace('Ã','') # remove Ã\n"
   ]
  },
  {
   "cell_type": "code",
   "execution_count": 71,
   "metadata": {},
   "outputs": [
    {
     "data": {
      "text/html": [
       "<div>\n",
       "<style scoped>\n",
       "    .dataframe tbody tr th:only-of-type {\n",
       "        vertical-align: middle;\n",
       "    }\n",
       "\n",
       "    .dataframe tbody tr th {\n",
       "        vertical-align: top;\n",
       "    }\n",
       "\n",
       "    .dataframe thead th {\n",
       "        text-align: right;\n",
       "    }\n",
       "</style>\n",
       "<table border=\"1\" class=\"dataframe\">\n",
       "  <thead>\n",
       "    <tr style=\"text-align: right;\">\n",
       "      <th></th>\n",
       "      <th>Price</th>\n",
       "      <th>EUR Price Group</th>\n",
       "      <th>Boat Type</th>\n",
       "      <th>Manufacturer</th>\n",
       "      <th>Type</th>\n",
       "      <th>Year Built</th>\n",
       "      <th>Length</th>\n",
       "      <th>Width</th>\n",
       "      <th>Material</th>\n",
       "      <th>Location</th>\n",
       "      <th>...</th>\n",
       "      <th>Amount</th>\n",
       "      <th>Price_EUR</th>\n",
       "      <th>Boat Type-Main</th>\n",
       "      <th>Boat Type 2</th>\n",
       "      <th>Boat Type 3</th>\n",
       "      <th>Condition</th>\n",
       "      <th>Fuel Type</th>\n",
       "      <th>Age Group</th>\n",
       "      <th>Age</th>\n",
       "      <th>View_group</th>\n",
       "    </tr>\n",
       "  </thead>\n",
       "  <tbody>\n",
       "    <tr>\n",
       "      <th>0</th>\n",
       "      <td>CHF 3337</td>\n",
       "      <td>Under 45K</td>\n",
       "      <td>Motor Yacht</td>\n",
       "      <td>Rigiflex power boats</td>\n",
       "      <td>new boat from stock</td>\n",
       "      <td>2017</td>\n",
       "      <td>4.00</td>\n",
       "      <td>1.90</td>\n",
       "      <td>NaN</td>\n",
       "      <td>Switzerland</td>\n",
       "      <td>...</td>\n",
       "      <td>3337</td>\n",
       "      <td>3403.74</td>\n",
       "      <td>Motor Yacht</td>\n",
       "      <td>None</td>\n",
       "      <td>None</td>\n",
       "      <td>new boat from stock</td>\n",
       "      <td>None</td>\n",
       "      <td>0-4 years</td>\n",
       "      <td>5</td>\n",
       "      <td>Good</td>\n",
       "    </tr>\n",
       "    <tr>\n",
       "      <th>1</th>\n",
       "      <td>EUR 3490</td>\n",
       "      <td>Under 45K</td>\n",
       "      <td>Center console boat</td>\n",
       "      <td>Terhi power boats</td>\n",
       "      <td>new boat from stock</td>\n",
       "      <td>2020</td>\n",
       "      <td>4.00</td>\n",
       "      <td>1.50</td>\n",
       "      <td>Thermoplastic</td>\n",
       "      <td>Germany</td>\n",
       "      <td>...</td>\n",
       "      <td>3490</td>\n",
       "      <td>3490.00</td>\n",
       "      <td>Center console boat</td>\n",
       "      <td>None</td>\n",
       "      <td>None</td>\n",
       "      <td>new boat from stock</td>\n",
       "      <td>None</td>\n",
       "      <td>0-4 years</td>\n",
       "      <td>2</td>\n",
       "      <td>Medium</td>\n",
       "    </tr>\n",
       "    <tr>\n",
       "      <th>2</th>\n",
       "      <td>CHF 3770</td>\n",
       "      <td>Under 45K</td>\n",
       "      <td>Sport Boat</td>\n",
       "      <td>Marine power boats</td>\n",
       "      <td>new boat from stock</td>\n",
       "      <td>0</td>\n",
       "      <td>3.69</td>\n",
       "      <td>1.42</td>\n",
       "      <td>Aluminium</td>\n",
       "      <td>Switzerland</td>\n",
       "      <td>...</td>\n",
       "      <td>3770</td>\n",
       "      <td>3845.40</td>\n",
       "      <td>Sport Boat</td>\n",
       "      <td>None</td>\n",
       "      <td>None</td>\n",
       "      <td>new boat from stock</td>\n",
       "      <td>None</td>\n",
       "      <td>NaN</td>\n",
       "      <td>0</td>\n",
       "      <td>Above average</td>\n",
       "    </tr>\n",
       "    <tr>\n",
       "      <th>3</th>\n",
       "      <td>DKK 25900</td>\n",
       "      <td>Under 45K</td>\n",
       "      <td>Sport Boat</td>\n",
       "      <td>Pioner power boats</td>\n",
       "      <td>new boat from stock</td>\n",
       "      <td>2020</td>\n",
       "      <td>3.00</td>\n",
       "      <td>1.00</td>\n",
       "      <td>NaN</td>\n",
       "      <td>Denmark</td>\n",
       "      <td>...</td>\n",
       "      <td>25900</td>\n",
       "      <td>3367.00</td>\n",
       "      <td>Sport Boat</td>\n",
       "      <td>None</td>\n",
       "      <td>None</td>\n",
       "      <td>new boat from stock</td>\n",
       "      <td>None</td>\n",
       "      <td>0-4 years</td>\n",
       "      <td>2</td>\n",
       "      <td>Low</td>\n",
       "    </tr>\n",
       "    <tr>\n",
       "      <th>4</th>\n",
       "      <td>EUR 3399</td>\n",
       "      <td>Under 45K</td>\n",
       "      <td>Fishing Boat</td>\n",
       "      <td>Linder power boats</td>\n",
       "      <td>new boat from stock</td>\n",
       "      <td>2019</td>\n",
       "      <td>3.55</td>\n",
       "      <td>1.46</td>\n",
       "      <td>Aluminium</td>\n",
       "      <td>Germany</td>\n",
       "      <td>...</td>\n",
       "      <td>3399</td>\n",
       "      <td>3399.00</td>\n",
       "      <td>Fishing Boat</td>\n",
       "      <td>None</td>\n",
       "      <td>None</td>\n",
       "      <td>new boat from stock</td>\n",
       "      <td>None</td>\n",
       "      <td>0-4 years</td>\n",
       "      <td>3</td>\n",
       "      <td>Low</td>\n",
       "    </tr>\n",
       "  </tbody>\n",
       "</table>\n",
       "<p>5 rows × 22 columns</p>\n",
       "</div>"
      ],
      "text/plain": [
       "       Price EUR Price Group            Boat Type          Manufacturer  \\\n",
       "0   CHF 3337       Under 45K          Motor Yacht  Rigiflex power boats   \n",
       "1   EUR 3490       Under 45K  Center console boat     Terhi power boats   \n",
       "2   CHF 3770       Under 45K           Sport Boat    Marine power boats   \n",
       "3  DKK 25900       Under 45K           Sport Boat    Pioner power boats   \n",
       "4   EUR 3399       Under 45K         Fishing Boat    Linder power boats   \n",
       "\n",
       "                  Type  Year Built  Length  Width       Material     Location  \\\n",
       "0  new boat from stock        2017    4.00   1.90            NaN  Switzerland   \n",
       "1  new boat from stock        2020    4.00   1.50  Thermoplastic      Germany   \n",
       "2  new boat from stock           0    3.69   1.42      Aluminium  Switzerland   \n",
       "3  new boat from stock        2020    3.00   1.00            NaN      Denmark   \n",
       "4  new boat from stock        2019    3.55   1.46      Aluminium      Germany   \n",
       "\n",
       "   ...  Amount  Price_EUR       Boat Type-Main  Boat Type 2 Boat Type 3  \\\n",
       "0  ...    3337    3403.74          Motor Yacht         None        None   \n",
       "1  ...    3490    3490.00  Center console boat         None        None   \n",
       "2  ...    3770    3845.40           Sport Boat         None        None   \n",
       "3  ...   25900    3367.00           Sport Boat         None        None   \n",
       "4  ...    3399    3399.00         Fishing Boat         None        None   \n",
       "\n",
       "             Condition Fuel Type  Age Group Age     View_group  \n",
       "0  new boat from stock      None  0-4 years   5           Good  \n",
       "1  new boat from stock      None  0-4 years   2         Medium  \n",
       "2  new boat from stock      None        NaN   0  Above average  \n",
       "3  new boat from stock      None  0-4 years   2            Low  \n",
       "4  new boat from stock      None  0-4 years   3            Low  \n",
       "\n",
       "[5 rows x 22 columns]"
      ]
     },
     "execution_count": 71,
     "metadata": {},
     "output_type": "execute_result"
    }
   ],
   "source": [
    "df['Manufacturer'].str.contains('Ã').sum()\n",
    "df['Location'].str.contains('Ã').sum()\n",
    "df.head()\n"
   ]
  },
  {
   "cell_type": "markdown",
   "metadata": {},
   "source": [
    "# Analyzing the Market / Data"
   ]
  },
  {
   "cell_type": "code",
   "execution_count": 72,
   "metadata": {},
   "outputs": [
    {
     "data": {
      "text/plain": [
       "<matplotlib.legend.Legend at 0x213fa569370>"
      ]
     },
     "execution_count": 72,
     "metadata": {},
     "output_type": "execute_result"
    },
    {
     "data": {
      "image/png": "[encoded data removed]",
      "text/plain": [
       "<Figure size 432x288 with 1 Axes>"
      ]
     },
     "metadata": {
      "needs_background": "light"
     },
     "output_type": "display_data"
    }
   ],
   "source": [
    "# Fig 1\n",
    "# 1.) Price vs Number of Views\n",
    "fig=sns.barplot(x='View_group',y='Price_EUR',data=df,ci=False,palette='flare',hue='EUR Price Group')\n",
    "fig.set(xlabel='Number of Views',ylabel='Price in EUR',title='Price vs Views')\n",
    "fig.legend(loc='center left',bbox_to_anchor=(1, 0.7))"
   ]
  },
  {
   "cell_type": "markdown",
   "metadata": {},
   "source": [
    "The most expensive boats are the most viewed boats. in each view category the highest viewed boats are the most expensive one"
   ]
  },
  {
   "cell_type": "code",
   "execution_count": 73,
   "metadata": {},
   "outputs": [
    {
     "data": {
      "text/plain": [
       "<matplotlib.legend.Legend at 0x213faa90be0>"
      ]
     },
     "execution_count": 73,
     "metadata": {},
     "output_type": "execute_result"
    },
    {
     "data": {
      "image/png": "[encoded data removed]",
      "text/plain": [
       "<Figure size 432x288 with 1 Axes>"
      ]
     },
     "metadata": {
      "needs_background": "light"
     },
     "output_type": "display_data"
    }
   ],
   "source": [
    "# Fig 2\n",
    "# 2.) Years vs Views\n",
    "fig=sns.barplot(x='View_group',y='Age',data=df,ci=False,palette='mako',hue='Age Group')\n",
    "fig.set(xlabel='Views - Group',ylabel='Age',title='Price vs Age')\n",
    "fig.legend(loc='center left',bbox_to_anchor=(1, 0.7))"
   ]
  },
  {
   "cell_type": "markdown",
   "metadata": {},
   "source": [
    "The most viewed boats are the oldest boats on average. in all view groups the most viewed boats are the 101+ year old boats. The best viewed boats however are the 26-50 year old boats"
   ]
  },
  {
   "cell_type": "code",
   "execution_count": 105,
   "metadata": {},
   "outputs": [
    {
     "data": {
      "text/plain": [
       "<matplotlib.legend.Legend at 0x213fd6420d0>"
      ]
     },
     "execution_count": 105,
     "metadata": {},
     "output_type": "execute_result"
    },
    {
     "data": {
      "image/png": "[encoded data removed]",
      "text/plain": [
       "<Figure size 432x288 with 1 Axes>"
      ]
     },
     "metadata": {
      "needs_background": "light"
     },
     "output_type": "display_data"
    }
   ],
   "source": [
    "# Fig 3\n",
    "# 3.) Boat Type vs Views\n",
    "fig=sns.barplot(x='View_group',y='Number of views last 7 days',data=df,palette='viridis',hue='Boat Type-Main',hue_order=['Motor Yacht',\n",
    "'Sport Boat','Fishing Boat','Cabin Boat','Classic','Flybridge'],ci=False)\n",
    "fig.set(xlabel='Views - Group',ylabel='Views',title='Boat Type vs Views')\n",
    "fig.legend(loc='center left',bbox_to_anchor=(1, 0.7))\n"
   ]
  },
  {
   "cell_type": "markdown",
   "metadata": {},
   "source": [
    "Consumers are mainly looking for Motor yachts and sport boats. Motor yacht is mainly for families while the sport boat is for young people who like water sports."
   ]
  },
  {
   "cell_type": "code",
   "execution_count": 81,
   "metadata": {},
   "outputs": [
    {
     "data": {
      "text/plain": [
       "<matplotlib.legend.Legend at 0x213fb354610>"
      ]
     },
     "execution_count": 81,
     "metadata": {},
     "output_type": "execute_result"
    },
    {
     "data": {
      "image/png": "[encoded data removed]",
      "text/plain": [
       "<Figure size 864x288 with 1 Axes>"
      ]
     },
     "metadata": {
      "needs_background": "light"
     },
     "output_type": "display_data"
    }
   ],
   "source": [
    "# Fig 4\n",
    "# 4.) Material vs Views\n",
    "fig,ax=plt.subplots(figsize=(12,4))\n",
    "fig=sns.barplot(x='Material',y='Number of views last 7 days',data=df,palette='mako',hue='View_group',ci=False)\n",
    "fig.set(xlabel='Material',ylabel='Views',title='Material vs Views',xlim=(0,8))\n",
    "fig.legend(loc='center left',bbox_to_anchor=(1, 0.7))"
   ]
  },
  {
   "cell_type": "markdown",
   "metadata": {},
   "source": [
    "Boats made by Plastic and GRP material are more viewed than other materials. Boats made by plastic material are the most viewed boats, because they are the cheapest option >> next graph"
   ]
  },
  {
   "cell_type": "code",
   "execution_count": 100,
   "metadata": {},
   "outputs": [
    {
     "data": {
      "text/plain": [
       "<matplotlib.legend.Legend at 0x213fd400a30>"
      ]
     },
     "execution_count": 100,
     "metadata": {},
     "output_type": "execute_result"
    },
    {
     "data": {
      "image/png": "[encoded data removed]",
      "text/plain": [
       "<Figure size 864x288 with 1 Axes>"
      ]
     },
     "metadata": {
      "needs_background": "light"
     },
     "output_type": "display_data"
    }
   ],
   "source": [
    "# Fig 5\n",
    "# 5.) Material vs Price\n",
    "fig,ax=plt.subplots(figsize=(12,4))\n",
    "# fig=sns.barplot(x='Material',y='Price_EUR',data=df,palette='mako',hue='EUR Price Group',ci=False)\n",
    "fig=sns.stripplot(x='Material',y='Price_EUR',data=df,palette='mako',hue='EUR Price Group')\n",
    "fig.set(xlabel='Material',ylabel='Price',title='Material vs Price',xlim=(0,8))\n",
    "fig.legend(loc='center left',bbox_to_anchor=(1, 0.7))"
   ]
  },
  {
   "cell_type": "markdown",
   "metadata": {},
   "source": [
    "AS we can see boats made by Plastic material are cheaper than boats made with GRP or Steel, which explains why they get the most views."
   ]
  },
  {
   "cell_type": "code",
   "execution_count": 116,
   "metadata": {},
   "outputs": [
    {
     "data": {
      "text/plain": [
       "<matplotlib.legend.Legend at 0x213ffe194f0>"
      ]
     },
     "execution_count": 116,
     "metadata": {},
     "output_type": "execute_result"
    },
    {
     "data": {
      "image/png": "[encoded data removed]",
      "text/plain": [
       "<Figure size 864x288 with 1 Axes>"
      ]
     },
     "metadata": {
      "needs_background": "light"
     },
     "output_type": "display_data"
    }
   ],
   "source": [
    "# Fig 6\n",
    "# 6.) Boat Type vs Material vs Views\n",
    "fig,ax=plt.subplots(figsize=(12,4))\n",
    "fig=sns.barplot(x='Material',y='Number of views last 7 days',data=df,palette='magma',hue='Boat Type-Main',ci=False,hue_order=['Motor Yacht',\n",
    "'Sport Boat','Fishing Boat','Cabin Boat','Classic','Flybridge'])\n",
    "fig.set(xlabel='Material',ylabel='Views',title='Boat Type vs Material vs Views',xlim=(0,8))\n",
    "fig.legend(loc='center left',bbox_to_anchor=(1, 0.7))"
   ]
  },
  {
   "cell_type": "markdown",
   "metadata": {},
   "source": [
    "As we can see that accross multiple Boat types, the common feature is that they are made by plastic material. The highest viewed boats who are made by platic material are Motor Yachts and Cabin Boats."
   ]
  },
  {
   "cell_type": "code",
   "execution_count": 202,
   "metadata": {},
   "outputs": [
    {
     "data": {
      "text/plain": [
       "<matplotlib.legend.Legend at 0x214026cb3a0>"
      ]
     },
     "execution_count": 202,
     "metadata": {},
     "output_type": "execute_result"
    },
    {
     "data": {
      "image/png": "[encoded data removed]",
      "text/plain": [
       "<Figure size 936x432 with 1 Axes>"
      ]
     },
     "metadata": {
      "needs_background": "light"
     },
     "output_type": "display_data"
    }
   ],
   "source": [
    "# Fig 7\n",
    "# 7.) Country vs Views\n",
    "fig,ax=plt.subplots(figsize=(13,6))\n",
    "fig=sns.barplot(x='Location',y='Number of views last 7 days',data=df,palette='magma',hue='View_group',ci=False)\n",
    "fig.set(xlabel='Country',ylabel='Views',title='Country vs Views',xlim=(0,14))\n",
    "fig.legend(loc='center left',bbox_to_anchor=(1, 0.7))\n"
   ]
  },
  {
   "cell_type": "markdown",
   "metadata": {},
   "source": [
    "The top locations are Switzerland, Germany and Croatia"
   ]
  },
  {
   "cell_type": "code",
   "execution_count": 217,
   "metadata": {},
   "outputs": [
    {
     "data": {
      "text/plain": [
       "<matplotlib.legend.Legend at 0x21409a3ebb0>"
      ]
     },
     "execution_count": 217,
     "metadata": {},
     "output_type": "execute_result"
    },
    {
     "data": {
      "image/png": "[encoded data removed]",
      "text/plain": [
       "<Figure size 864x288 with 1 Axes>"
      ]
     },
     "metadata": {
      "needs_background": "light"
     },
     "output_type": "display_data"
    }
   ],
   "source": [
    "# Fig 8\n",
    "# 8.) Location vs Price Group vs Views\n",
    "fig,ax=plt.subplots(figsize=(12,4))\n",
    "fig=sns.barplot(x='EUR Price Group',y='Number of views last 7 days',data=df,palette='viridis',hue='Location',ci=False,hue_order=\n",
    "['Switzerland','Germany','Denmark','Italy','France','United','Spain','Austria','Netherlands'])\n",
    "fig.set(xlabel='Price Group',ylabel='Views',title='Location vs Price Group vs Views')\n",
    "fig.legend(loc='center left',bbox_to_anchor=(1, 0.7))"
   ]
  },
  {
   "cell_type": "markdown",
   "metadata": {},
   "source": [
    "Swiss people are affordable for any kind of boat. Gerans prefer Average boats (160K-220K)"
   ]
  },
  {
   "cell_type": "markdown",
   "metadata": {},
   "source": [
    "Findings"
   ]
  },
  {
   "cell_type": "markdown",
   "metadata": {},
   "source": [
    "- The most expensive boats get the most views (Fig 1)\n",
    "- The most viewed boats are the oldest boats on (Fig 2) average. in all view groups the most viewed boats are the 101+ year old boats. The best/highest viewed boats however are the 26-50 year old boats\n",
    "- Consumers are mainly looking for Motor yachts and sport boats. Motor yacht is mainly for families while the sport boat is for young people who like water sports. (Fig 3)\n",
    "- Boats made by Plastic and GRP material are more viewed than other materials. Boats made by plastic material are the most viewed boats, because they are the cheapest option >> next graph (Fig 4)\n",
    "- AS we can see boats made by Plastic material are cheaper than boats made with GRP or Steel, which explains why they get the most views. (Fig 5)\n",
    "- As we can see that accross multiple Boat types, the common feature is that they are made by plastic material. The highest viewed boats who are made by platic material are Motor Yachts and Cabin Boats.(Fig 6)\n",
    "- The top countries are Switzerland, Germany and Croatia (Fig 7)\n",
    "- Swiss people are affordable for any kind of boat. Gerans prefer Average boats (160K-220K) (Fig 8)"
   ]
  },
  {
   "cell_type": "markdown",
   "metadata": {},
   "source": [
    "Conclusion:"
   ]
  },
  {
   "cell_type": "markdown",
   "metadata": {},
   "source": [
    "Recommend that the marketing team focus on the top countries like Switzerland, Germany and Italy and design special custom newsletters while providing standard versions to the rest.\n",
    "The weekly newsletter should include key boat features, giving insightful information to boat owners, so that they would know how to boost their boat sales\n",
    "Key Features:\n",
    "- Motor Yacht, Sport Boat, and Flybridge boat types\n",
    "- made with plastic material\n",
    "- \n",
    "\n",
    "Once the listing matches the features, its page view will increase and might lead to more revenue to sellers!\n",
    "\n"
   ]
  }
 ],
 "metadata": {
  "kernelspec": {
   "display_name": "Python 3.8.0 64-bit",
   "language": "python",
   "name": "python3"
  },
  "language_info": {
   "codemirror_mode": {
    "name": "ipython",
    "version": 3
   },
   "file_extension": ".py",
   "mimetype": "text/x-python",
   "name": "python",
   "nbconvert_exporter": "python",
   "pygments_lexer": "ipython3",
   "version": "3.8.0"
  },
  "orig_nbformat": 4,
  "vscode": {
   "interpreter": {
    "hash": "2469a70536e4d2335a2ea8907942d0699c37342a371ac185bdb5b0aa6f073890"
   }
  }
 },
 "nbformat": 4,
 "nbformat_minor": 2
}
