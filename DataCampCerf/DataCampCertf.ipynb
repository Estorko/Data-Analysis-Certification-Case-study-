{
 "cells": [
  {
   "cell_type": "code",
   "execution_count": null,
   "metadata": {},
   "outputs": [],
   "source": [
    "import pandas as  pd\n",
    "import seaborn as sns\n",
    "import matplotlib as plt\n",
    "df=pd.read_csv('boat_data.csv')\n",
    "df.dropna()"
   ]
  },
  {
   "cell_type": "code",
   "execution_count": 25,
   "metadata": {},
   "outputs": [
    {
     "data": {
      "text/html": [
       "<div>\n",
       "<style scoped>\n",
       "    .dataframe tbody tr th:only-of-type {\n",
       "        vertical-align: middle;\n",
       "    }\n",
       "\n",
       "    .dataframe tbody tr th {\n",
       "        vertical-align: top;\n",
       "    }\n",
       "\n",
       "    .dataframe thead th {\n",
       "        text-align: right;\n",
       "    }\n",
       "</style>\n",
       "<table border=\"1\" class=\"dataframe\">\n",
       "  <thead>\n",
       "    <tr style=\"text-align: right;\">\n",
       "      <th></th>\n",
       "      <th>Year Built</th>\n",
       "      <th>Length</th>\n",
       "      <th>Width</th>\n",
       "      <th>Number of views last 7 days</th>\n",
       "      <th>Amount</th>\n",
       "    </tr>\n",
       "  </thead>\n",
       "  <tbody>\n",
       "    <tr>\n",
       "      <th>Year Built</th>\n",
       "      <td>1.000000</td>\n",
       "      <td>0.117290</td>\n",
       "      <td>0.127150</td>\n",
       "      <td>0.024808</td>\n",
       "      <td>0.070074</td>\n",
       "    </tr>\n",
       "    <tr>\n",
       "      <th>Length</th>\n",
       "      <td>0.117290</td>\n",
       "      <td>1.000000</td>\n",
       "      <td>0.873093</td>\n",
       "      <td>-0.135011</td>\n",
       "      <td>0.578682</td>\n",
       "    </tr>\n",
       "    <tr>\n",
       "      <th>Width</th>\n",
       "      <td>0.127150</td>\n",
       "      <td>0.873093</td>\n",
       "      <td>1.000000</td>\n",
       "      <td>-0.157547</td>\n",
       "      <td>0.587872</td>\n",
       "    </tr>\n",
       "    <tr>\n",
       "      <th>Number of views last 7 days</th>\n",
       "      <td>0.024808</td>\n",
       "      <td>-0.135011</td>\n",
       "      <td>-0.157547</td>\n",
       "      <td>1.000000</td>\n",
       "      <td>-0.143155</td>\n",
       "    </tr>\n",
       "    <tr>\n",
       "      <th>Amount</th>\n",
       "      <td>0.070074</td>\n",
       "      <td>0.578682</td>\n",
       "      <td>0.587872</td>\n",
       "      <td>-0.143155</td>\n",
       "      <td>1.000000</td>\n",
       "    </tr>\n",
       "  </tbody>\n",
       "</table>\n",
       "</div>"
      ],
      "text/plain": [
       "                             Year Built    Length     Width  \\\n",
       "Year Built                     1.000000  0.117290  0.127150   \n",
       "Length                         0.117290  1.000000  0.873093   \n",
       "Width                          0.127150  0.873093  1.000000   \n",
       "Number of views last 7 days    0.024808 -0.135011 -0.157547   \n",
       "Amount                         0.070074  0.578682  0.587872   \n",
       "\n",
       "                             Number of views last 7 days    Amount  \n",
       "Year Built                                      0.024808  0.070074  \n",
       "Length                                         -0.135011  0.578682  \n",
       "Width                                          -0.157547  0.587872  \n",
       "Number of views last 7 days                     1.000000 -0.143155  \n",
       "Amount                                         -0.143155  1.000000  "
      ]
     },
     "execution_count": 25,
     "metadata": {},
     "output_type": "execute_result"
    }
   ],
   "source": [
    "# df.corr()\n",
    "# Price conversion --> to EUR\n",
    "# 1 CHF (Schweize Franken) = 1,02 EUR\n",
    "# 1 Â£ = 1.15 EUR\n",
    "# 1 DKK (Dänische Krone)= 0.13 EUR\n",
    "\n",
    "# Split Currency and Amount from each other\n",
    "df['Currency']=df['Price'].str[:3]\n",
    "df['Amount']=df['Price'].str[4:10].str.strip().astype(int)\n",
    "# Convert to EUR\n",
    "cur_dict={\n",
    "    'CHF':1.02,'Â£':1.15, 'DKK':0.13,'EUR':1\n",
    "}\n",
    "df.replace({'Currency':cur_dict},inplace=True)\n",
    "df['Price_EUR']=df['Currency']*df['Amount']\n",
    "df.head()"
   ]
  },
  {
   "cell_type": "code",
   "execution_count": null,
   "metadata": {},
   "outputs": [],
   "source": [
    "# Categorize Prices\n"
   ]
  }
 ],
 "metadata": {
  "kernelspec": {
   "display_name": "Python 3.8.0 64-bit",
   "language": "python",
   "name": "python3"
  },
  "language_info": {
   "codemirror_mode": {
    "name": "ipython",
    "version": 3
   },
   "file_extension": ".py",
   "mimetype": "text/x-python",
   "name": "python",
   "nbconvert_exporter": "python",
   "pygments_lexer": "ipython3",
   "version": "3.8.0"
  },
  "orig_nbformat": 4,
  "vscode": {
   "interpreter": {
    "hash": "2469a70536e4d2335a2ea8907942d0699c37342a371ac185bdb5b0aa6f073890"
   }
  }
 },
 "nbformat": 4,
 "nbformat_minor": 2
}
